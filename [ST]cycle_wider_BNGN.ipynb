{
 "cells": [
  {
   "cell_type": "code",
   "execution_count": 1,
   "metadata": {
    "execution": {
     "iopub.execute_input": "2022-09-18T22:06:32.726614Z",
     "iopub.status.busy": "2022-09-18T22:06:32.726036Z",
     "iopub.status.idle": "2022-09-18T22:06:32.733077Z",
     "shell.execute_reply": "2022-09-18T22:06:32.732575Z",
     "shell.execute_reply.started": "2022-09-18T22:06:32.726555Z"
    },
    "id": "cfVwVROsx3N2"
   },
   "outputs": [],
   "source": [
    "test_id = 'ST_wider_cycle_BNGN_FINAL'"
   ]
  },
  {
   "cell_type": "markdown",
   "metadata": {
    "id": "dOtzaj1xehms"
   },
   "source": [
    "# wandb setup"
   ]
  },
  {
   "cell_type": "code",
   "execution_count": null,
   "metadata": {
    "colab": {
     "base_uri": "https://localhost:8080/"
    },
    "execution": {
     "iopub.execute_input": "2022-09-18T22:06:33.379832Z",
     "iopub.status.busy": "2022-09-18T22:06:33.379058Z",
     "iopub.status.idle": "2022-09-18T22:06:38.500114Z",
     "shell.execute_reply": "2022-09-18T22:06:38.499302Z",
     "shell.execute_reply.started": "2022-09-18T22:06:33.379790Z"
    },
    "id": "2VS8a9greZmr",
    "outputId": "17fdadb4-403b-4984-bbbc-cdd8b710c53c"
   },
   "outputs": [],
   "source": [
    "!pip install wandb"
   ]
  },
  {
   "cell_type": "markdown",
   "metadata": {},
   "source": [
    "## Wandb Key 입력\n",
    "\n",
    "사용자 wandb api key를 입력"
   ]
  },
  {
   "cell_type": "code",
   "execution_count": null,
   "metadata": {
    "colab": {
     "base_uri": "https://localhost:8080/"
    },
    "execution": {
     "iopub.execute_input": "2022-09-18T22:06:38.501669Z",
     "iopub.status.busy": "2022-09-18T22:06:38.501464Z",
     "iopub.status.idle": "2022-09-18T22:06:40.258728Z",
     "shell.execute_reply": "2022-09-18T22:06:40.258138Z",
     "shell.execute_reply.started": "2022-09-18T22:06:38.501651Z"
    },
    "id": "GYTNVC_-ejaJ",
    "outputId": "8b694225-555f-4d59-e0f6-08efabcc361c"
   },
   "outputs": [],
   "source": [
    "import wandb\n",
    "\n",
    "wandb.login(key='')"
   ]
  },
  {
   "cell_type": "markdown",
   "metadata": {},
   "source": [
    "## Wandb 프로젝트 생성\n",
    "\n",
    "wandb.init(project=\"project-name\", entity=\"user-name\")\n",
    "\n",
    "project 이름과 user name 입력"
   ]
  },
  {
   "cell_type": "code",
   "execution_count": null,
   "metadata": {
    "colab": {
     "base_uri": "https://localhost:8080/",
     "height": 126
    },
    "execution": {
     "iopub.execute_input": "2022-09-18T22:06:40.260308Z",
     "iopub.status.busy": "2022-09-18T22:06:40.259948Z",
     "iopub.status.idle": "2022-09-18T22:06:41.229002Z",
     "shell.execute_reply": "2022-09-18T22:06:41.228530Z",
     "shell.execute_reply.started": "2022-09-18T22:06:40.260288Z"
    },
    "id": "QZkP0JKFe9k3",
    "outputId": "4180c1ff-08b0-4218-b25b-a80271ffd49f"
   },
   "outputs": [],
   "source": [
    "wandb.init(project=\"SaumsungSEM\", entity=\"\")\n",
    "wandb.run.name = test_id"
   ]
  },
  {
   "cell_type": "markdown",
   "metadata": {
    "id": "YYsy3tkktiK2"
   },
   "source": [
    "# Basic Setup"
   ]
  },
  {
   "cell_type": "code",
   "execution_count": 5,
   "metadata": {
    "execution": {
     "iopub.execute_input": "2022-09-18T22:06:41.231006Z",
     "iopub.status.busy": "2022-09-18T22:06:41.230213Z",
     "iopub.status.idle": "2022-09-18T22:06:43.464980Z",
     "shell.execute_reply": "2022-09-18T22:06:43.464472Z",
     "shell.execute_reply.started": "2022-09-18T22:06:41.230984Z"
    },
    "id": "aTA1KQlzrfJg"
   },
   "outputs": [],
   "source": [
    "import random\n",
    "import pandas as pd\n",
    "import numpy as np\n",
    "import os\n",
    "import glob\n",
    "import cv2\n",
    "import zipfile\n",
    "\n",
    "import torch\n",
    "import torch.nn as nn\n",
    "import torch.optim as optim\n",
    "import torch.nn.functional as F\n",
    "import torchvision\n",
    "from torch.utils.data import Dataset, DataLoader\n",
    "import itertools\n",
    "\n",
    "import matplotlib.pyplot as plt\n",
    "import seaborn as sns\n",
    "\n",
    "from tqdm import tqdm\n",
    "from sklearn.metrics import mean_squared_error\n",
    "from sklearn.model_selection import train_test_split\n",
    "from datetime import datetime\n",
    "\n",
    "import warnings\n",
    "warnings.filterwarnings(action='ignore') "
   ]
  },
  {
   "cell_type": "code",
   "execution_count": 6,
   "metadata": {
    "execution": {
     "iopub.execute_input": "2022-09-18T22:06:44.162713Z",
     "iopub.status.busy": "2022-09-18T22:06:44.162269Z",
     "iopub.status.idle": "2022-09-18T22:06:44.171931Z",
     "shell.execute_reply": "2022-09-18T22:06:44.171129Z",
     "shell.execute_reply.started": "2022-09-18T22:06:44.162695Z"
    },
    "id": "Kc9WYHE1tkPG"
   },
   "outputs": [],
   "source": [
    "CFG = {\n",
    "    #################################################\n",
    "    'DEBUG': False,\n",
    "    'OPEN_ZIP_PATH': './open.zip',\n",
    "    'PROJECT_DIR': './cycle',\n",
    "    #################################################\n",
    "\n",
    "\n",
    "    #기본 설정\n",
    "    'RUN_TYPE': 'ST',                 #ST / TD / Clf\n",
    "    'TRAIN_CASE': 1,                  #1 / 2 / 3 / 4\n",
    "    'SAVE_EPOCH_TERM': 2,\n",
    "\n",
    "    #모델 설정\n",
    "    'STG_RES_NUM': 2,\n",
    "    'STG_DIM': 64,\n",
    "    'STG_PATHS':[],\n",
    "    'STD_DIM': 64,\n",
    "    'STD_PATHS':[],\n",
    "    'STD_DROPOUT': 0.3,\n",
    "\n",
    "    #학습 parameter 설정\n",
    "    'EPOCHS': 300,\n",
    "    'BATCH_SIZE': 128,\n",
    "    'LAMBDA_IDT': 0.5,\n",
    "    'LAMBDA_CYCLE': 10,\n",
    "    'GAN_LR': 0.0002,\n",
    "\n",
    "    #기타\n",
    "    'PERCENTILES': [0, 0.01, 0.03, 0.05, 0.07 ,0.1, 0.15, 0.2, 0.2, 0.3, 0.35, 0.38, 0.4, 0.42, 0.44, 0.46, 0.48, 0.5, 0.6, 0.7, 0.8],\n",
    "    'SEED': 42,\n",
    "}\n",
    "CFG['IMG_dir'] = f'{CFG[\"PROJECT_DIR\"]}/{test_id}/images/{CFG[\"TRAIN_CASE\"]}'\n",
    "CFG['STG_dir'] = f'{CFG[\"PROJECT_DIR\"]}/{test_id}/STG/{CFG[\"TRAIN_CASE\"]}'\n",
    "CFG['STD_dir'] = f'{CFG[\"PROJECT_DIR\"]}/{test_id}/STD/{CFG[\"TRAIN_CASE\"]}'\n",
    "\n",
    "os.makedirs(CFG['IMG_dir'], exist_ok=True)\n",
    "os.makedirs(CFG['STG_dir'], exist_ok=True)\n",
    "os.makedirs(CFG['STD_dir'], exist_ok=True)\n",
    "\n",
    "wandb.config.update(CFG)"
   ]
  },
  {
   "cell_type": "code",
   "execution_count": 7,
   "metadata": {
    "execution": {
     "iopub.execute_input": "2022-09-18T22:06:44.738729Z",
     "iopub.status.busy": "2022-09-18T22:06:44.738204Z",
     "iopub.status.idle": "2022-09-18T22:06:44.745444Z",
     "shell.execute_reply": "2022-09-18T22:06:44.744907Z",
     "shell.execute_reply.started": "2022-09-18T22:06:44.738707Z"
    },
    "id": "LnxjQGvor3u_"
   },
   "outputs": [],
   "source": [
    "def seed_everything(seed):\n",
    "    random.seed(seed)\n",
    "    os.environ['PYTHONHASHSEED'] = str(seed)\n",
    "    np.random.seed(seed)\n",
    "    torch.manual_seed(seed)\n",
    "    torch.cuda.manual_seed(seed)\n",
    "    torch.backends.cudnn.deterministic = True\n",
    "    torch.backends.cudnn.benchmark = True\n",
    "\n",
    "seed_everything(CFG['SEED']) # Seed 고정"
   ]
  },
  {
   "cell_type": "code",
   "execution_count": 8,
   "metadata": {
    "execution": {
     "iopub.execute_input": "2022-09-18T22:06:45.650264Z",
     "iopub.status.busy": "2022-09-18T22:06:45.649493Z",
     "iopub.status.idle": "2022-09-18T22:06:45.654450Z",
     "shell.execute_reply": "2022-09-18T22:06:45.653974Z",
     "shell.execute_reply.started": "2022-09-18T22:06:45.650264Z"
    },
    "id": "S6oSAdDVr4-X"
   },
   "outputs": [],
   "source": [
    "device = torch.device('cuda') if torch.cuda.is_available() else torch.device('cpu')"
   ]
  },
  {
   "cell_type": "markdown",
   "metadata": {
    "id": "8-6KHoBfqDHo"
   },
   "source": [
    "# Prepare Dataset"
   ]
  },
  {
   "cell_type": "code",
   "execution_count": 10,
   "metadata": {
    "execution": {
     "iopub.execute_input": "2022-09-18T22:06:52.567326Z",
     "iopub.status.busy": "2022-09-18T22:06:52.566564Z",
     "iopub.status.idle": "2022-09-18T22:06:52.570791Z",
     "shell.execute_reply": "2022-09-18T22:06:52.570237Z",
     "shell.execute_reply.started": "2022-09-18T22:06:52.567325Z"
    },
    "id": "5bPPP4OfpUr8"
   },
   "outputs": [],
   "source": [
    "if CFG['OPEN_ZIP_PATH'] is not None:\n",
    "  with zipfile.ZipFile(CFG['OPEN_ZIP_PATH']) as z:\n",
    "    z.extractall()"
   ]
  },
  {
   "cell_type": "code",
   "execution_count": 11,
   "metadata": {
    "execution": {
     "iopub.execute_input": "2022-09-18T11:02:48.112837Z",
     "iopub.status.busy": "2022-09-18T11:02:48.112503Z",
     "iopub.status.idle": "2022-09-18T11:02:54.833944Z",
     "shell.execute_reply": "2022-09-18T11:02:54.833130Z",
     "shell.execute_reply.started": "2022-09-18T11:02:48.112814Z"
    },
    "id": "PJvaZFUMpdou"
   },
   "outputs": [
    {
     "data": {
      "text/html": [
       "<div>\n",
       "<style scoped>\n",
       "    .dataframe tbody tr th:only-of-type {\n",
       "        vertical-align: middle;\n",
       "    }\n",
       "\n",
       "    .dataframe tbody tr th {\n",
       "        vertical-align: top;\n",
       "    }\n",
       "\n",
       "    .dataframe thead th {\n",
       "        text-align: right;\n",
       "    }\n",
       "</style>\n",
       "<table border=\"1\" class=\"dataframe\">\n",
       "  <thead>\n",
       "    <tr style=\"text-align: right;\">\n",
       "      <th></th>\n",
       "      <th>iter0</th>\n",
       "      <th>iter1</th>\n",
       "      <th>depth</th>\n",
       "      <th>case</th>\n",
       "    </tr>\n",
       "  </thead>\n",
       "  <tbody>\n",
       "    <tr>\n",
       "      <th>0</th>\n",
       "      <td>./simulation_data/SEM\\Case_1\\80\\20201001_20294...</td>\n",
       "      <td>./simulation_data/SEM\\Case_1\\80\\20201001_20294...</td>\n",
       "      <td>./simulation_data/Depth\\Case_1\\80\\20201001_202...</td>\n",
       "      <td>1</td>\n",
       "    </tr>\n",
       "    <tr>\n",
       "      <th>1</th>\n",
       "      <td>./simulation_data/SEM\\Case_1\\80\\20201001_20294...</td>\n",
       "      <td>./simulation_data/SEM\\Case_1\\80\\20201001_20294...</td>\n",
       "      <td>./simulation_data/Depth\\Case_1\\80\\20201001_202...</td>\n",
       "      <td>1</td>\n",
       "    </tr>\n",
       "    <tr>\n",
       "      <th>2</th>\n",
       "      <td>./simulation_data/SEM\\Case_1\\80\\20201001_20294...</td>\n",
       "      <td>./simulation_data/SEM\\Case_1\\80\\20201001_20294...</td>\n",
       "      <td>./simulation_data/Depth\\Case_1\\80\\20201001_202...</td>\n",
       "      <td>1</td>\n",
       "    </tr>\n",
       "    <tr>\n",
       "      <th>3</th>\n",
       "      <td>./simulation_data/SEM\\Case_1\\80\\20201001_20294...</td>\n",
       "      <td>./simulation_data/SEM\\Case_1\\80\\20201001_20294...</td>\n",
       "      <td>./simulation_data/Depth\\Case_1\\80\\20201001_202...</td>\n",
       "      <td>1</td>\n",
       "    </tr>\n",
       "    <tr>\n",
       "      <th>4</th>\n",
       "      <td>./simulation_data/SEM\\Case_1\\80\\20201001_20294...</td>\n",
       "      <td>./simulation_data/SEM\\Case_1\\80\\20201001_20294...</td>\n",
       "      <td>./simulation_data/Depth\\Case_1\\80\\20201001_202...</td>\n",
       "      <td>1</td>\n",
       "    </tr>\n",
       "  </tbody>\n",
       "</table>\n",
       "</div>"
      ],
      "text/plain": [
       "                                               iter0  \\\n",
       "0  ./simulation_data/SEM\\Case_1\\80\\20201001_20294...   \n",
       "1  ./simulation_data/SEM\\Case_1\\80\\20201001_20294...   \n",
       "2  ./simulation_data/SEM\\Case_1\\80\\20201001_20294...   \n",
       "3  ./simulation_data/SEM\\Case_1\\80\\20201001_20294...   \n",
       "4  ./simulation_data/SEM\\Case_1\\80\\20201001_20294...   \n",
       "\n",
       "                                               iter1  \\\n",
       "0  ./simulation_data/SEM\\Case_1\\80\\20201001_20294...   \n",
       "1  ./simulation_data/SEM\\Case_1\\80\\20201001_20294...   \n",
       "2  ./simulation_data/SEM\\Case_1\\80\\20201001_20294...   \n",
       "3  ./simulation_data/SEM\\Case_1\\80\\20201001_20294...   \n",
       "4  ./simulation_data/SEM\\Case_1\\80\\20201001_20294...   \n",
       "\n",
       "                                               depth  case  \n",
       "0  ./simulation_data/Depth\\Case_1\\80\\20201001_202...     1  \n",
       "1  ./simulation_data/Depth\\Case_1\\80\\20201001_202...     1  \n",
       "2  ./simulation_data/Depth\\Case_1\\80\\20201001_202...     1  \n",
       "3  ./simulation_data/Depth\\Case_1\\80\\20201001_202...     1  \n",
       "4  ./simulation_data/Depth\\Case_1\\80\\20201001_202...     1  "
      ]
     },
     "execution_count": 11,
     "metadata": {},
     "output_type": "execute_result"
    }
   ],
   "source": [
    "simulation_sem_path = sorted(glob.glob('./simulation_data/SEM/*/*/*.png'))\n",
    "simulation_depth_paths = sorted(glob.glob('./simulation_data/Depth/*/*/*.png'))\n",
    "simulation_sem_paths = np.array(simulation_sem_path).reshape(-1,2)\n",
    "\n",
    "df_simul = pd.DataFrame({'iter0':simulation_sem_paths[:,0], 'iter1':simulation_sem_paths[:,1], 'depth':simulation_depth_paths})\n",
    "df_simul['case'] = df_simul['iter0'].apply(lambda x: int(x[27]))\n",
    "df_simul.head()"
   ]
  },
  {
   "cell_type": "code",
   "execution_count": 12,
   "metadata": {
    "execution": {
     "iopub.execute_input": "2022-09-18T11:02:54.835330Z",
     "iopub.status.busy": "2022-09-18T11:02:54.835107Z",
     "iopub.status.idle": "2022-09-18T11:02:54.840410Z",
     "shell.execute_reply": "2022-09-18T11:02:54.839700Z",
     "shell.execute_reply.started": "2022-09-18T11:02:54.835310Z"
    }
   },
   "outputs": [
    {
     "data": {
      "text/plain": [
       "86652"
      ]
     },
     "execution_count": 12,
     "metadata": {},
     "output_type": "execute_result"
    }
   ],
   "source": [
    "len(df_simul)"
   ]
  },
  {
   "cell_type": "code",
   "execution_count": 13,
   "metadata": {
    "execution": {
     "iopub.execute_input": "2022-09-18T10:55:06.627106Z",
     "iopub.status.busy": "2022-09-18T10:55:06.626877Z",
     "iopub.status.idle": "2022-09-18T10:55:10.270412Z",
     "shell.execute_reply": "2022-09-18T10:55:10.269815Z",
     "shell.execute_reply.started": "2022-09-18T10:55:06.627086Z"
    },
    "id": "erTyeF7QqI61"
   },
   "outputs": [
    {
     "data": {
      "text/html": [
       "<div>\n",
       "<style scoped>\n",
       "    .dataframe tbody tr th:only-of-type {\n",
       "        vertical-align: middle;\n",
       "    }\n",
       "\n",
       "    .dataframe tbody tr th {\n",
       "        vertical-align: top;\n",
       "    }\n",
       "\n",
       "    .dataframe thead th {\n",
       "        text-align: right;\n",
       "    }\n",
       "</style>\n",
       "<table border=\"1\" class=\"dataframe\">\n",
       "  <thead>\n",
       "    <tr style=\"text-align: right;\">\n",
       "      <th></th>\n",
       "      <th>path</th>\n",
       "      <th>case</th>\n",
       "    </tr>\n",
       "  </thead>\n",
       "  <tbody>\n",
       "    <tr>\n",
       "      <th>0</th>\n",
       "      <td>./train/SEM\\Depth_110\\site_00000\\SEM_043510.png</td>\n",
       "      <td>1</td>\n",
       "    </tr>\n",
       "    <tr>\n",
       "      <th>1</th>\n",
       "      <td>./train/SEM\\Depth_110\\site_00000\\SEM_043987.png</td>\n",
       "      <td>1</td>\n",
       "    </tr>\n",
       "    <tr>\n",
       "      <th>2</th>\n",
       "      <td>./train/SEM\\Depth_110\\site_00000\\SEM_045397.png</td>\n",
       "      <td>1</td>\n",
       "    </tr>\n",
       "    <tr>\n",
       "      <th>3</th>\n",
       "      <td>./train/SEM\\Depth_110\\site_00000\\SEM_046894.png</td>\n",
       "      <td>1</td>\n",
       "    </tr>\n",
       "    <tr>\n",
       "      <th>4</th>\n",
       "      <td>./train/SEM\\Depth_110\\site_00000\\SEM_049394.png</td>\n",
       "      <td>1</td>\n",
       "    </tr>\n",
       "  </tbody>\n",
       "</table>\n",
       "</div>"
      ],
      "text/plain": [
       "                                              path  case\n",
       "0  ./train/SEM\\Depth_110\\site_00000\\SEM_043510.png     1\n",
       "1  ./train/SEM\\Depth_110\\site_00000\\SEM_043987.png     1\n",
       "2  ./train/SEM\\Depth_110\\site_00000\\SEM_045397.png     1\n",
       "3  ./train/SEM\\Depth_110\\site_00000\\SEM_046894.png     1\n",
       "4  ./train/SEM\\Depth_110\\site_00000\\SEM_049394.png     1"
      ]
     },
     "execution_count": 13,
     "metadata": {},
     "output_type": "execute_result"
    }
   ],
   "source": [
    "train_data_path = glob.glob('./train/SEM/*/*/*.png')\n",
    "\n",
    "df_train = pd.DataFrame({'path':train_data_path})\n",
    "df_train['case'] = df_train['path'].apply(lambda x: int(x[18:21])//10%10)\n",
    "df_train.head()"
   ]
  },
  {
   "cell_type": "markdown",
   "metadata": {
    "id": "BM-RQfCsdlSn"
   },
   "source": [
    "# ST_Dataset"
   ]
  },
  {
   "cell_type": "code",
   "execution_count": 14,
   "metadata": {
    "execution": {
     "iopub.execute_input": "2022-09-18T10:55:10.272176Z",
     "iopub.status.busy": "2022-09-18T10:55:10.271325Z",
     "iopub.status.idle": "2022-09-18T10:55:10.278393Z",
     "shell.execute_reply": "2022-09-18T10:55:10.277871Z",
     "shell.execute_reply.started": "2022-09-18T10:55:10.272148Z"
    },
    "id": "uujHhy8Ur_uS"
   },
   "outputs": [],
   "source": [
    "class ST_Simul_Dataset(Dataset):  \n",
    "  def __init__(self, df):\n",
    "    self.df = df\n",
    "  def __len__(self):\n",
    "    return len(self.df)\n",
    "  def __getitem__(self, idx):\n",
    "    sem1 = torch.Tensor(cv2.imread(self.df.iloc[idx,0], cv2.IMREAD_GRAYSCALE))[None, :]\n",
    "    sem2 = torch.Tensor(cv2.imread(self.df.iloc[idx,1], cv2.IMREAD_GRAYSCALE))[None, :]\n",
    "    sem = (sem1 + sem2) / 212 - 1    \n",
    "\n",
    "    return sem \n",
    "\n",
    "class ST_Train_Dataset(Dataset):\n",
    "  def __init__(self, df):\n",
    "    self.df = df\n",
    "  def __len__(self):\n",
    "    return len(self.df)\n",
    "  def __getitem__(self, idx):\n",
    "    train = torch.Tensor(cv2.imread(self.df.iloc[idx,0], cv2.IMREAD_GRAYSCALE))[None,:]\n",
    "\n",
    "    return train / 212 * 2 - 1"
   ]
  },
  {
   "cell_type": "markdown",
   "metadata": {
    "id": "je3jeZP3Mr5X"
   },
   "source": [
    "# Extra Class & Functions"
   ]
  },
  {
   "cell_type": "code",
   "execution_count": 15,
   "metadata": {
    "execution": {
     "iopub.execute_input": "2022-09-18T10:55:10.280588Z",
     "iopub.status.busy": "2022-09-18T10:55:10.279952Z",
     "iopub.status.idle": "2022-09-18T10:55:10.285228Z",
     "shell.execute_reply": "2022-09-18T10:55:10.284726Z",
     "shell.execute_reply.started": "2022-09-18T10:55:10.280561Z"
    },
    "id": "-YadUU74iruq"
   },
   "outputs": [],
   "source": [
    "def weights_init_normal(m):\n",
    "    classname = m.__class__.__name__\n",
    "    if classname.find(\"Conv2d\") != -1:\n",
    "        torch.nn.init.normal_(m.weight.data, 0.0, 0.02)\n",
    "    elif classname.find(\"BatchNorm2d\") != -1:\n",
    "        torch.nn.init.normal_(m.weight.data, 1.0, 0.02)\n",
    "        torch.nn.init.constant_(m.bias.data, 0.0)"
   ]
  },
  {
   "cell_type": "markdown",
   "metadata": {
    "id": "dHMpofy1U1JM"
   },
   "source": [
    "# WGAN\n"
   ]
  },
  {
   "cell_type": "code",
   "execution_count": 16,
   "metadata": {
    "execution": {
     "iopub.execute_input": "2022-09-18T10:55:10.286721Z",
     "iopub.status.busy": "2022-09-18T10:55:10.286024Z",
     "iopub.status.idle": "2022-09-18T10:55:10.294908Z",
     "shell.execute_reply": "2022-09-18T10:55:10.294401Z",
     "shell.execute_reply.started": "2022-09-18T10:55:10.286696Z"
    },
    "id": "A99A0EOoK6Vv"
   },
   "outputs": [],
   "source": [
    "class Resblock(nn.Module):\n",
    "  def __init__(self, dim):\n",
    "    super(Resblock, self).__init__()\n",
    "    self.main = nn.Sequential(\n",
    "      nn.Conv2d(dim, dim, 3, 1, 1, padding_mode='replicate'),\n",
    "      nn.BatchNorm2d(dim),\n",
    "      nn.ReLU(),\n",
    "\n",
    "      nn.Conv2d(dim, dim, 3, 1, 1, padding_mode='replicate'),\n",
    "      nn.BatchNorm2d(dim),\n",
    "    )\n",
    "  \n",
    "  def forward(self, img):\n",
    "    return img + self.main(img)"
   ]
  },
  {
   "cell_type": "code",
   "execution_count": 17,
   "metadata": {
    "execution": {
     "iopub.execute_input": "2022-09-18T10:55:10.296545Z",
     "iopub.status.busy": "2022-09-18T10:55:10.296169Z",
     "iopub.status.idle": "2022-09-18T10:55:10.309697Z",
     "shell.execute_reply": "2022-09-18T10:55:10.309199Z",
     "shell.execute_reply.started": "2022-09-18T10:55:10.296521Z"
    },
    "id": "eamPULL_U2Rm"
   },
   "outputs": [],
   "source": [
    "import torch.nn.functional as F\n",
    "from torch.autograd import Variable\n",
    "from torch.autograd import Variable\n",
    "from torch.autograd import grad as torch_grad\n",
    "\n",
    "class Generator(nn.Module):\n",
    "    def __init__(self, dim):\n",
    "        super(Generator, self).__init__() \n",
    "        self.encoder = nn.Sequential(\n",
    "            nn.Conv2d(1, dim, 7, 1, padding='same', padding_mode='replicate'),\n",
    "            nn.BatchNorm2d(dim),\n",
    "            nn.ReLU(),\n",
    "            nn.Conv2d(dim, 2*dim, 4, 2, 1, padding_mode='replicate'),\n",
    "            nn.BatchNorm2d(2*dim),\n",
    "            nn.ReLU(),\n",
    "        )\n",
    "        resblocks = [Resblock(2*dim) for _ in range(CFG['STG_RES_NUM'])]\n",
    "        self.middle_layer = nn.Sequential(*resblocks)\n",
    "\n",
    "        self.decoder = nn.Sequential(\n",
    "            nn.ConvTranspose2d(2 * dim, dim, 4, 2, 1),\n",
    "            nn.BatchNorm2d(dim),\n",
    "            nn.ReLU(),\n",
    "            nn.Conv2d(dim, 1, 7, 1, padding='same', padding_mode='replicate'),\n",
    "            nn.Tanh()\n",
    "        )\n",
    "\n",
    "    def forward(self, simul_sem):\n",
    "        weights = self.encoder(simul_sem)\n",
    "        weights = self.middle_layer(weights)\n",
    "        weights = self.decoder(weights)\n",
    "        return weights\n",
    "\n",
    "\n",
    "class Discriminator(nn.Module):\n",
    "    def __init__(self, dim):\n",
    "        super(Discriminator, self).__init__()\n",
    "        self.main = nn.Sequential(\n",
    "            nn.Conv2d(1, dim, 7, 1, padding='same', padding_mode='replicate'),\n",
    "            nn.LeakyReLU(0.2),\n",
    "\n",
    "            nn.Conv2d(dim, dim, 4, 2, 1),           #(Batch, dim, 36, 24)\n",
    "            nn.GroupNorm(4, dim),\n",
    "            nn.LeakyReLU(0.2),\n",
    "            nn.Dropout(p=CFG['STD_DROPOUT']),\n",
    "\n",
    "            nn.Conv2d(dim, dim, 3, 1, 1),   \n",
    "            nn.GroupNorm(4, dim),\n",
    "            nn.LeakyReLU(0.2),\n",
    "            nn.Dropout(p=CFG['STD_DROPOUT']),\n",
    "\n",
    "            nn.Conv2d(dim, 2 * dim, 4, 2, 1),     #(Batch, 2*dim, 18, 12)\n",
    "            nn.GroupNorm(4, 2*dim),\n",
    "            nn.LeakyReLU(0.2),\n",
    "            nn.Dropout(p=CFG['STD_DROPOUT']),\n",
    "\n",
    "            nn.Conv2d(2*dim, 2*dim, 3, 1, 1),\n",
    "            nn.GroupNorm(4, 2*dim),\n",
    "            nn.LeakyReLU(2*dim),\n",
    "            nn.Dropout(p=CFG['STD_DROPOUT']),\n",
    "\n",
    "            nn.Conv2d(2 * dim, 4 * dim, 4, 2, 1), #(Batch, 4*dim, 9, 6)\n",
    "            nn.GroupNorm(4, 4*dim),\n",
    "            nn.LeakyReLU(0.2),\n",
    "            nn.Dropout(p=CFG['STD_DROPOUT']),\n",
    "\n",
    "            nn.Conv2d(4*dim, 4*dim, 3, 1, 1),\n",
    "            nn.GroupNorm(4, 4*dim),\n",
    "            nn.LeakyReLU(0.2),\n",
    "            nn.Dropout(p=CFG['STD_DROPOUT']),\n",
    "\n",
    "            nn.Conv2d(4*dim, 1, (9,6), 1, 1)\n",
    "        )\n",
    "\n",
    "    def forward(self, trasnfered_SEM):\n",
    "        x = self.main(trasnfered_SEM)\n",
    "        return x"
   ]
  },
  {
   "cell_type": "markdown",
   "metadata": {
    "id": "D3_cv6dAacmm"
   },
   "source": [
    "# Trainer"
   ]
  },
  {
   "cell_type": "code",
   "execution_count": 18,
   "metadata": {
    "execution": {
     "iopub.execute_input": "2022-09-18T10:55:10.311281Z",
     "iopub.status.busy": "2022-09-18T10:55:10.310919Z",
     "iopub.status.idle": "2022-09-18T10:55:10.366480Z",
     "shell.execute_reply": "2022-09-18T10:55:10.365776Z",
     "shell.execute_reply.started": "2022-09-18T10:55:10.311259Z"
    },
    "id": "NKgwuqdKadWV"
   },
   "outputs": [],
   "source": [
    "class Trainer():\n",
    "  def __init__(self, generator, discriminator, device=device, model_checkpoint=None,\n",
    "               lambda_idt=CFG['LAMBDA_IDT'], lambda_cycle=CFG['LAMBDA_CYCLE'], lambda_GP=10, critic_iterations=5):\n",
    "      self.G_ST = generator(dim=CFG['STG_DIM']).to(device)\n",
    "      self.G_TS = generator(dim=CFG['STG_DIM']).to(device)\n",
    "      self.G_opt = torch.optim.Adam(itertools.chain(self.G_ST.parameters(), self.G_TS.parameters()),lr=CFG['GAN_LR'], betas=(0.5,0.999))\n",
    "\n",
    "      self.D_T = discriminator(dim=CFG['STG_DIM']).to(device)\n",
    "      self.D_S = discriminator(dim=CFG['STG_DIM']).to(device)\n",
    "      self.D_T_opt = torch.optim.Adam(params=self.D_T.parameters(), lr=CFG['GAN_LR'], betas=(0.5,0.999))\n",
    "      self.D_S_opt = torch.optim.Adam(params=self.D_S.parameters(), lr=CFG['GAN_LR'], betas=(0.5,0.999))\n",
    "        \n",
    "      self.scheduler_D_T = optim.lr_scheduler.MultiStepLR(self.D_T_opt, milestones=[100, 200, 300], gamma=0.5, verbose=True)\n",
    "      self.scheduler_D_S = optim.lr_scheduler.MultiStepLR(self.D_S_opt, milestones=[100, 200, 300], gamma=0.5, verbose=True)\n",
    "      self.scheduler_G = optim.lr_scheduler.MultiStepLR(self.G_opt, milestones=[100, 200, 300], gamma=0.5, verbose=True)\n",
    "        \n",
    "    \n",
    "      if model_checkpoint is None:\n",
    "          weights_init_normal(self.G_ST)\n",
    "          weights_init_normal(self.G_TS)\n",
    "          weights_init_normal(self.D_T)\n",
    "          weights_init_normal(self.D_S)\n",
    "          self.last_epoch = 0\n",
    "      \n",
    "      else:\n",
    "          self.last_epoch = model_checkpoint['last_epoch']\n",
    "          self.G_ST.load_state_dict(torch.load(model_checkpoint['G_ST']))\n",
    "          self.G_TS.load_state_dict(torch.load(model_checkpoint['G_TS']))            \n",
    "          self.D_T.load_state_dict(torch.load(model_checkpoint['D_T']))\n",
    "          self.D_S.load_state_dict(torch.load(model_checkpoint['D_S']))\n",
    "\n",
    "          try:\n",
    "            self.G_opt.load_state_dict(torch.load(model_checkpoint['G_opt']))\n",
    "            self.scheduler_G.load_state_dict(torch.load(model_checkpoint['scheduler_G']))\n",
    "            self.D_T_opt.load_state_dict(torch.load(model_checkpoint['D_T_opt']))\n",
    "            self.D_S_opt.load_state_dict(torch.load(model_checkpoint['D_S_opt']))\n",
    "            self.scheduler_D_T.load_state_dict(torch.load(model_checkpoint['scheduler_D_T']))\n",
    "            self.scheduler_D_S.load_state_dict(torch.load(model_checkpoint['scheduler_D_S']))\n",
    "          except KeyError:\n",
    "            print('load model only')\n",
    "          print('train checkpoint loaded')\n",
    "\n",
    "      wandb.watch(self.G_ST)\n",
    "      wandb.watch(self.G_TS)\n",
    "      wandb.watch(self.D_T)\n",
    "      wandb.watch(self.D_S)\n",
    "  \n",
    "      self.criterion_idt = nn.L1Loss()\n",
    "      self.criterion_cycle = nn.L1Loss()\n",
    "\n",
    "      self.log = {'G':[], 'D_S': [], 'D_T': [], 'GP': [], 'gradient_norm': [],\n",
    "                     'cycle_ST': [], 'cycle_TS': [],  'IDT_TS':[], 'IDT_ST':[],\n",
    "                     'D_S': [], 'D_T': [],'D_S_fake':[], 'D_S_real':[], 'D_T_fake':[], 'D_T_real':[]}\n",
    "      self.num_steps = 0\n",
    "\n",
    "      self.lambda_idt = lambda_idt\n",
    "      self.lambda_GP = lambda_GP\n",
    "      self.lambda_cycle = lambda_cycle\n",
    "      self.critic_iterations = critic_iterations\n",
    "\n",
    "      self.device = device\n",
    "  def _critic_train_iteration(self, simul_SEM, train_SEM):\n",
    "      #Generate Image S\n",
    "      fake_ST = self.G_ST(simul_SEM)\n",
    "      #Generate Image T\n",
    "      fake_TS = self.G_TS(train_SEM)\n",
    "\n",
    "      #Discriminator S\n",
    "      d_S_real = self.D_S(simul_SEM)\n",
    "      d_S_fake = self.D_S(fake_TS)\n",
    "\n",
    "      #Discriminator T\n",
    "      d_T_real = self.D_T(train_SEM)\n",
    "      d_T_fake = self.D_T(fake_ST)\n",
    "\n",
    "      # Get gradient penalty for S\n",
    "      gradient_penalty_S = self._gradient_penalty(self.D_S, simul_SEM, fake_TS)\n",
    "      self.log['GP'].append(gradient_penalty_S.item())\n",
    "\n",
    "      # Get gradient penalty for T\n",
    "      gradient_penalty_T = self._gradient_penalty(self.D_T, train_SEM, fake_ST)\n",
    "      self.log['GP'].append(gradient_penalty_T.item())\n",
    "   \n",
    "      # weight update S\n",
    "      self.D_S_opt.zero_grad()\n",
    "      d_S_loss = d_S_fake.mean() - d_S_real.mean() + gradient_penalty_S\n",
    "      d_S_loss.backward()\n",
    "      self.D_S_opt.step()\n",
    "\n",
    "      # weight update T\n",
    "      self.D_T_opt.zero_grad()\n",
    "      d_T_loss = d_T_fake.mean() - d_T_real.mean() + gradient_penalty_T\n",
    "      d_T_loss.backward()\n",
    "      self.D_T_opt.step()\n",
    "\n",
    "      # Record loss\n",
    "      self.log['D_S'].append(d_S_loss.item())\n",
    "      self.log['D_T'].append(d_T_loss.item())\n",
    "      self.log['D_S_fake'].append(d_S_fake.mean().item())\n",
    "      self.log['D_S_real'].append(d_S_real.mean().item())\n",
    "      self.log['D_T_fake'].append(d_T_fake.mean().item())\n",
    "      self.log['D_T_real'].append(d_T_real.mean().item())\n",
    "\n",
    "  def _generator_train_iteration(self, simul_SEM, train_SEM, epoch):\n",
    "      #Generate Image ST\n",
    "      fake_ST = self.G_ST(simul_SEM)\n",
    "      #Generate Iamge TS\n",
    "      fake_TS = self.G_TS(train_SEM)\n",
    "      self.G_opt.zero_grad()\n",
    "\n",
    "      # Calculate loss and optimize\n",
    "  \n",
    "      #IDT Loss ST\n",
    "      ST_idt_loss = self.criterion_idt(simul_SEM, fake_ST) * self.lambda_idt\n",
    "      #IDT Loss TS\n",
    "      TS_idt_loss = self.criterion_idt(train_SEM, fake_TS) * self.lambda_idt\n",
    "\n",
    "      #GAN_Loss ST\n",
    "      d_T_fake = self.D_T(fake_ST)\n",
    "      #GAN_Loss TS\n",
    "      d_S_fake = self.D_S(fake_TS)\n",
    "\n",
    "      #get cycle_loss ST\n",
    "      rec_S = self.G_TS(fake_ST)\n",
    "      loss_cycle_S = self.criterion_cycle(rec_S, simul_SEM) * self.lambda_cycle\n",
    "      #get cycle_loss TS\n",
    "      rec_T = self.G_ST(fake_TS)\n",
    "      loss_cycle_T = self.criterion_cycle(rec_T, train_SEM) * self.lambda_cycle\n",
    "\n",
    "      loss_G = -d_T_fake.mean() - d_S_fake.mean() + ST_idt_loss + TS_idt_loss + loss_cycle_S + loss_cycle_T\n",
    "      loss_G.backward()\n",
    "      self.G_opt.step()\n",
    "\n",
    "      if self.num_steps % 500 == 0:\n",
    "        img_sample = torch.cat((simul_SEM.data[0], fake_ST.data[0], rec_S.data[0], train_SEM.data[0], fake_TS.data[0], rec_T.data[0]), -2)\n",
    "        img_sample = (img_sample + 1) * 212 / 2\n",
    "        img_sample = img_sample.view(1,-1,48).cpu().numpy().transpose(1,2,0)\n",
    "        cv2.imwrite(f'{CFG[\"IMG_dir\"]}/{str(epoch).zfill(4)}.png', img_sample)\n",
    "      # Record loss\n",
    "      self.log['G'].append(loss_G.item())\n",
    "      self.log['IDT_ST'].append(ST_idt_loss.item())\n",
    "      self.log['IDT_TS'].append(TS_idt_loss.item())\n",
    "      self.log['cycle_ST'].append(loss_cycle_S.item())\n",
    "      self.log['cycle_TS'].append(loss_cycle_T.item())\n",
    "\n",
    "  def _gradient_penalty(self, netD, SEM, fake_SEM):\n",
    "    b_size = SEM.size()[0]\n",
    "\n",
    "    # Calculate interpolation\n",
    "    alpha = torch.rand(b_size, 1, 1, 1)\n",
    "    alpha = alpha.expand_as(SEM)\n",
    "    alpha = alpha.cuda()\n",
    "\n",
    "    interpolated = alpha * SEM.data + (1 - alpha) * fake_SEM.data\n",
    "    interpolated = Variable(interpolated, requires_grad=True)\n",
    "    interpolated = interpolated.cuda()\n",
    "\n",
    "    # Calculate probability of interpolated examples\n",
    "    prob_interpolated = netD(interpolated)\n",
    "\n",
    "    # Calculate gradients of probabilities with respect to examples\n",
    "    gradients = torch_grad(outputs=prob_interpolated, inputs=interpolated,\n",
    "                          grad_outputs=torch.ones(prob_interpolated.size()).cuda(),\n",
    "                          create_graph=True, retain_graph=True)[0]\n",
    "\n",
    "    # Gradients have shape (batch_size, num_channels, img_width, img_height),\n",
    "    # so flatten to easily take norm per example in batch\n",
    "    gradients = gradients.view(b_size, -1)\n",
    "    self.log['gradient_norm'].append(gradients.norm(2, dim=1).mean().item())\n",
    "    # Derivatives of the gradient close to 0 can cause problems because of\n",
    "    # the square root, so manually calculate norm and add epsilon\n",
    "    gradients_norm = torch.sqrt(torch.sum(gradients ** 2, dim=1) + 1e-12)\n",
    "\n",
    "    # Return gradient penalty\n",
    "    return self.lambda_GP * ((gradients_norm - 1) ** 2).mean()\n",
    "\n",
    "  def _train_epoch(self, simul_loader, train_loader, epoch):\n",
    "      for i, simul_SEM in enumerate(tqdm(simul_loader)):\n",
    "        try:\n",
    "          train_SEM = next(self.train_iter)\n",
    "          assert train_SEM.shape[0] == simul_SEM.shape[0]\n",
    "        except (AssertionError, StopIteration):\n",
    "          if train_SEM.shape[0] > simul_SEM.shape[0]:\n",
    "            train_SEM = train_SEM[:simul_SEM.shape[0]]\n",
    "          else:\n",
    "            self.train_iter = iter(train_loader)\n",
    "            train_SEM = next(self.train_iter)[:simul_SEM.shape[0]]\n",
    "        simul_SEM = simul_SEM.to(self.device)\n",
    "        train_SEM = train_SEM.to(self.device)\n",
    "\n",
    "        self.num_steps += 1\n",
    "        self._critic_train_iteration(simul_SEM, train_SEM)\n",
    "        # Only update generator every |critic_iterations| iterations\n",
    "        if self.num_steps % self.critic_iterations == 0:\n",
    "            self._generator_train_iteration(simul_SEM, train_SEM, epoch)\n",
    "        \n",
    "  def train(self, simul_loader, train_loader, epochs, save_every):\n",
    "      df_train = self.get_df(None, train_loader)\n",
    "      df_simul = self.get_df(None, simul_loader)\n",
    "      self.train_iter = iter(train_loader)\n",
    "      for epoch in range(self.last_epoch, epochs):\n",
    "          print(\"\\nEpoch {}\\n\".format(epoch + 1))\n",
    "          self._train_epoch(simul_loader, train_loader, epoch)\n",
    "          log = self.get_log(epoch)\n",
    "          if (epoch > CFG['EPOCHS']-10 and epoch % save_every == 0) or (epoch % 20 == 0):\n",
    "            self.model_save(epoch)\n",
    "            print('################Model Saved################')\n",
    "\n",
    "            self.G_ST.eval()\n",
    "            self.G_TS.eval()\n",
    "            with torch.no_grad():\n",
    "              print('Generating plot for wandb...')\n",
    "              df_simul_for_plot = self.get_df(self.G_ST, simul_loader)\n",
    "              log = self.get_plot(df_train, df_simul_for_plot,Gtype='ST', log=log)\n",
    "              df_train_for_plot = self.get_df(self.G_TS, train_loader)\n",
    "              log = self.get_plot(df_simul, df_train_for_plot,Gtype='TS', log=log)\n",
    "              print('Pushing plot Finished')\n",
    "\n",
    "          self.G_ST.train()\n",
    "          self.G_TS.train()\n",
    "          wandb.log(log)\n",
    "          if self.scheduler_G is not None:\n",
    "            self.scheduler_G.step()\n",
    "          if self.scheduler_D_S is not None:\n",
    "            self.scheduler_D_S.step()\n",
    "          if self.scheduler_D_T is not None:\n",
    "            self.scheduler_D_T.step()\n",
    "\n",
    "  def model_save(self, epoch):\n",
    "    torch.save(self.G_opt.state_dict(), f'{CFG[\"STG_dir\"]}/optG_{str(epoch+1).zfill(3)}.pth')\n",
    "    torch.save(self.G_ST.state_dict(), f'{CFG[\"STG_dir\"]}/G_ST_{str(epoch+1).zfill(3)}.pth')\n",
    "    torch.save(self.G_TS.state_dict(), f'{CFG[\"STG_dir\"]}/G_TS_{str(epoch+1).zfill(3)}.pth')\n",
    "    torch.save(self.scheduler_G.state_dict(), f'{CFG[\"STG_dir\"]}/schedlerG_{str(epoch+1).zfill(3)}.pth')\n",
    "\n",
    "    torch.save(self.D_S_opt.state_dict(), f'{CFG[\"STD_dir\"]}/optD_S{str(epoch+1).zfill(3)}.pth')\n",
    "    torch.save(self.D_S.state_dict(), f'{CFG[\"STD_dir\"]}/STD_S{str(epoch+1).zfill(3)}.pth')\n",
    "    torch.save(self.scheduler_D_S.state_dict(), f'{CFG[\"STD_dir\"]}/schedlerD_S{str(epoch+1).zfill(3)}.pth')\n",
    "\n",
    "    torch.save(self.D_T_opt.state_dict(), f'{CFG[\"STD_dir\"]}/optD_T{str(epoch+1).zfill(3)}.pth')\n",
    "    torch.save(self.D_T.state_dict(), f'{CFG[\"STD_dir\"]}/STD_T{str(epoch+1).zfill(3)}.pth')\n",
    "    torch.save(self.scheduler_D_T.state_dict(), f'{CFG[\"STD_dir\"]}/schedlerD_T{str(epoch+1).zfill(3)}.pth')\n",
    "\n",
    "  def get_log(self, epoch):\n",
    "    G_losses = np.mean(self.log['G'])\n",
    "    IDT_ST_losses = np.mean(self.log['IDT_ST'])\n",
    "    IDT_TS_losses = np.mean(self.log['IDT_TS'])\n",
    "    D_S_losses = np.mean(self.log['D_S'])\n",
    "    D_T_losses = np.mean(self.log['D_T'])\n",
    "    GP_losses = np.mean(self.log['GP'])\n",
    "    gradient_norm = np.mean(self.log['gradient_norm'])\n",
    "    D_S_fake = np.mean(self.log['D_S_fake'])\n",
    "    D_S_real = np.mean(self.log['D_S_real'])\n",
    "    D_T_fake = np.mean(self.log['D_T_fake'])\n",
    "    D_T_real = np.mean(self.log['D_T_real'])\n",
    "    cycle_ST = np.mean(self.log['cycle_ST'])\n",
    "    cycle_TS = np.mean(self.log['cycle_TS'])\n",
    "\n",
    "    log = {'epoch': epoch,\n",
    "            f'G_loss_{CFG[\"TRAIN_CASE\"]}': G_losses,\n",
    "            f'IDT_ST_losses{CFG[\"TRAIN_CASE\"]}': IDT_ST_losses,\n",
    "            f'IDT_TS_losses{CFG[\"TRAIN_CASE\"]}': IDT_TS_losses,\n",
    "            f'D_S_losses_{CFG[\"TRAIN_CASE\"]}': D_S_losses,\n",
    "            f'D_T_losses_{CFG[\"TRAIN_CASE\"]}': D_T_losses,\n",
    "            f'GP_losses_{CFG[\"TRAIN_CASE\"]}': GP_losses,\n",
    "            f'gradient_norm_{CFG[\"TRAIN_CASE\"]}': gradient_norm,\n",
    "            f'D_S_fake_{CFG[\"TRAIN_CASE\"]}' : D_S_fake,\n",
    "            f'D_S_real_{CFG[\"TRAIN_CASE\"]}' : D_S_real,\n",
    "            f'D_T_fake_{CFG[\"TRAIN_CASE\"]}' : D_T_fake,\n",
    "            f'D_T_real_{CFG[\"TRAIN_CASE\"]}' : D_T_real,\n",
    "            f'cycle_ST_{CFG[\"TRAIN_CASE\"]}' : cycle_ST,\n",
    "            f'cycle_TS_{CFG[\"TRAIN_CASE\"]}' : cycle_TS,\n",
    "            }\n",
    "    self.log = {'G':[], 'D_S': [], 'D_T': [], 'GP': [], 'gradient_norm': [],\n",
    "                'cycle_ST': [], 'cycle_TS': [],  'IDT_TS':[], 'IDT_ST':[],\n",
    "                'D_S': [], 'D_T': [],'D_S_fake':[], 'D_S_real':[], 'D_T_fake':[], 'D_T_real':[]}\n",
    "    return log\n",
    "\n",
    "  def get_df(self, model, loader):\n",
    "    avg = torch.Tensor([]).to(self.device)\n",
    "    std = torch.Tensor([]).to(self.device)\n",
    "    percentiles = torch.Tensor(CFG['PERCENTILES']).to(self.device)\n",
    "    p = torch.zeros(1, len(percentiles)).to(self.device)\n",
    "    #EDA 파일과 같은 방식으로 각 데이터 수집\n",
    "    for img in tqdm(loader):\n",
    "      img = img.to(self.device)\n",
    "      if model is not None:\n",
    "        img = model(img)\n",
    "\n",
    "      img = img.view(-1,3456).detach()\n",
    "      avg = torch.cat((avg, torch.mean(img, dim=1)))\n",
    "      std = torch.cat((std, torch.std(img, dim=1, unbiased=False)))\n",
    "      temp = torch.quantile(img, percentiles, dim=1, interpolation='nearest')\n",
    "      temp = torch.transpose(temp, 1, 0)\n",
    "      p = torch.cat((p, temp.detach()))\n",
    "\n",
    "    avg = avg.cpu()\n",
    "    std = std.cpu()\n",
    "    p = p[1:].cpu()\n",
    "    percentiles = percentiles.cpu().numpy()\n",
    "    df = pd.DataFrame({'avg': avg, 'std': std})\n",
    "    for i in range(len(percentiles)):\n",
    "      df[str(percentiles[i])[1:]+'%'] = p[:,i]\n",
    "    return df\n",
    "\n",
    "  #wandb 전송할 plot 생성\n",
    "  def get_plot(self, df1, df2, Gtype, log):\n",
    "    case=CFG['TRAIN_CASE']\n",
    "    percentiles = CFG['PERCENTILES']\n",
    "    fig, axes = plt.subplots(nrows=(len(percentiles)+2)//2, ncols=2)\n",
    "    fig.set_size_inches(30, 4 *len(axes))\n",
    "\n",
    "    key = iter(df1.keys())\n",
    "    for rows in axes:\n",
    "      for ax in rows:\n",
    "        try:\n",
    "          target = next(key)\n",
    "          ax1 = ax.twinx()\n",
    "          sns.histplot(data=df1, x=target, kde=False, ax=ax, palette='bright')\n",
    "          sns.kdeplot(data=df2, x=target, ax=ax1, palette='bright')\n",
    "\n",
    "        except StopIteration:\n",
    "          break \n",
    "    log[f'Analysis_{Gtype}_{CFG[\"TRAIN_CASE\"]}'] = wandb.Image(fig)\n",
    "    plt.cla()\n",
    "    plt.clf()\n",
    "    plt.close('all')\n",
    "    return log"
   ]
  },
  {
   "cell_type": "markdown",
   "metadata": {
    "id": "4AQbtwMcJolt"
   },
   "source": [
    "# Train 1\n"
   ]
  },
  {
   "cell_type": "code",
   "execution_count": 23,
   "metadata": {
    "execution": {
     "iopub.execute_input": "2022-09-18T10:55:10.368282Z",
     "iopub.status.busy": "2022-09-18T10:55:10.367472Z",
     "iopub.status.idle": "2022-09-18T10:55:10.373925Z",
     "shell.execute_reply": "2022-09-18T10:55:10.373251Z",
     "shell.execute_reply.started": "2022-09-18T10:55:10.368256Z"
    },
    "id": "vVk6d8dNYMcI"
   },
   "outputs": [],
   "source": [
    "CFG['TRAIN_CASE'] = 1\n",
    "CFG['IMG_dir'] = f'{CFG[\"PROJECT_DIR\"]}/{test_id}/images/{CFG[\"TRAIN_CASE\"]}'\n",
    "CFG['STG_dir'] = f'{CFG[\"PROJECT_DIR\"]}/{test_id}/STG/{CFG[\"TRAIN_CASE\"]}'\n",
    "CFG['STD_dir'] = f'{CFG[\"PROJECT_DIR\"]}/{test_id}/STD/{CFG[\"TRAIN_CASE\"]}'\n",
    "\n",
    "os.makedirs(CFG['IMG_dir'], exist_ok=True)\n",
    "os.makedirs(CFG['STG_dir'], exist_ok=True)\n",
    "os.makedirs(CFG['STD_dir'], exist_ok=True)\n",
    "\n",
    "model_checkpoint = None\n",
    "wandb.config.update(CFG)"
   ]
  },
  {
   "cell_type": "code",
   "execution_count": 24,
   "metadata": {
    "colab": {
     "base_uri": "https://localhost:8080/"
    },
    "execution": {
     "iopub.execute_input": "2022-09-18T10:55:10.375246Z",
     "iopub.status.busy": "2022-09-18T10:55:10.374664Z",
     "iopub.status.idle": "2022-09-18T10:55:13.605207Z",
     "shell.execute_reply": "2022-09-18T10:55:13.603908Z",
     "shell.execute_reply.started": "2022-09-18T10:55:10.375221Z"
    },
    "id": "sgMWBPrKYMcI",
    "outputId": "97b9ac04-5b30-4596-ca54-4243cbe87087"
   },
   "outputs": [
    {
     "name": "stdout",
     "output_type": "stream",
     "text": [
      "Adjusting learning rate of group 0 to 2.0000e-04.\n",
      "Adjusting learning rate of group 0 to 2.0000e-04.\n",
      "Adjusting learning rate of group 0 to 2.0000e-04.\n"
     ]
    }
   ],
   "source": [
    "#dataset 준비\n",
    "seed_everything(CFG['SEED']) # Seed 고정\n",
    "\n",
    "temp_simul = df_simul[df_simul['case'] == CFG['TRAIN_CASE']]\n",
    "temp_train = df_train[df_train['case']==CFG['TRAIN_CASE']]\n",
    "if CFG['DEBUG'] == True:\n",
    "  temp_simul = temp_simul.iloc[:1000]\n",
    "  temp_train = temp_train.iloc[:800]\n",
    "\n",
    "ST_simul = ST_Simul_Dataset(temp_simul)\n",
    "ST_train = ST_Train_Dataset(temp_train)\n",
    "\n",
    "\n",
    "ST_simul_loader = DataLoader(ST_simul, batch_size=CFG['BATCH_SIZE'], shuffle=True)\n",
    "ST_train_loader = DataLoader(ST_train, batch_size=CFG['BATCH_SIZE'], shuffle=True)\n",
    "\n",
    "wgan_trainer = Trainer(Generator, Discriminator, device, model_checkpoint = model_checkpoint)"
   ]
  },
  {
   "cell_type": "code",
   "execution_count": null,
   "metadata": {
    "colab": {
     "base_uri": "https://localhost:8080/"
    },
    "execution": {
     "iopub.execute_input": "2022-09-18T10:55:13.607569Z",
     "iopub.status.busy": "2022-09-18T10:55:13.607325Z",
     "iopub.status.idle": "2022-09-18T11:02:05.786202Z",
     "shell.execute_reply": "2022-09-18T11:02:05.784957Z",
     "shell.execute_reply.started": "2022-09-18T10:55:13.607547Z"
    },
    "id": "ZVpvzue0YMcI",
    "outputId": "c8aef82b-46bd-44a4-f8ce-77d032d0efdb"
   },
   "outputs": [],
   "source": [
    "wgan_trainer.train(ST_simul_loader, ST_train_loader, CFG['EPOCHS'], 2)"
   ]
  },
  {
   "cell_type": "markdown",
   "metadata": {
    "id": "4AQbtwMcJolt"
   },
   "source": [
    "# Train 2\n"
   ]
  },
  {
   "cell_type": "code",
   "execution_count": 31,
   "metadata": {
    "execution": {
     "iopub.execute_input": "2022-09-18T10:55:10.368282Z",
     "iopub.status.busy": "2022-09-18T10:55:10.367472Z",
     "iopub.status.idle": "2022-09-18T10:55:10.373925Z",
     "shell.execute_reply": "2022-09-18T10:55:10.373251Z",
     "shell.execute_reply.started": "2022-09-18T10:55:10.368256Z"
    },
    "id": "vVk6d8dNYMcI"
   },
   "outputs": [],
   "source": [
    "CFG['TRAIN_CASE'] = 2\n",
    "CFG['IMG_dir'] = f'{CFG[\"PROJECT_DIR\"]}/{test_id}/images/{CFG[\"TRAIN_CASE\"]}'\n",
    "CFG['STG_dir'] = f'{CFG[\"PROJECT_DIR\"]}/{test_id}/STG/{CFG[\"TRAIN_CASE\"]}'\n",
    "CFG['STD_dir'] = f'{CFG[\"PROJECT_DIR\"]}/{test_id}/STD/{CFG[\"TRAIN_CASE\"]}'\n",
    "\n",
    "os.makedirs(CFG['IMG_dir'], exist_ok=True)\n",
    "os.makedirs(CFG['STG_dir'], exist_ok=True)\n",
    "os.makedirs(CFG['STD_dir'], exist_ok=True)\n",
    "\n",
    "model_checkpoint = {}\n",
    "model_checkpoint['last_epoch'] = 0\n",
    "model_checkpoint['G_ST'] = f'{CFG[\"PROJECT_DIR\"]}/{test_id}/STG/1/G_ST_299.pth'\n",
    "model_checkpoint['G_TS'] = f'{CFG[\"PROJECT_DIR\"]}/{test_id}/STG/1/G_TS_299.pth'       \n",
    "model_checkpoint['D_T'] = f'{CFG[\"PROJECT_DIR\"]}/{test_id}/STD/1/STD_T299.pth' \n",
    "model_checkpoint['D_S'] = f'{CFG[\"PROJECT_DIR\"]}/{test_id}/STD/1/STD_S299.pth' \n",
    "CFG['EPOCHS'] = 100\n",
    "\n",
    "wandb.config.update(CFG)"
   ]
  },
  {
   "cell_type": "code",
   "execution_count": 32,
   "metadata": {
    "colab": {
     "base_uri": "https://localhost:8080/"
    },
    "execution": {
     "iopub.execute_input": "2022-09-18T10:55:10.375246Z",
     "iopub.status.busy": "2022-09-18T10:55:10.374664Z",
     "iopub.status.idle": "2022-09-18T10:55:13.605207Z",
     "shell.execute_reply": "2022-09-18T10:55:13.603908Z",
     "shell.execute_reply.started": "2022-09-18T10:55:10.375221Z"
    },
    "id": "sgMWBPrKYMcI",
    "outputId": "97b9ac04-5b30-4596-ca54-4243cbe87087"
   },
   "outputs": [
    {
     "name": "stdout",
     "output_type": "stream",
     "text": [
      "Adjusting learning rate of group 0 to 2.0000e-04.\n",
      "Adjusting learning rate of group 0 to 2.0000e-04.\n",
      "Adjusting learning rate of group 0 to 2.0000e-04.\n",
      "load model only\n",
      "train checkpoint loaded\n"
     ]
    }
   ],
   "source": [
    "#dataset 준비\n",
    "seed_everything(CFG['SEED']) # Seed 고정\n",
    "\n",
    "temp_simul = df_simul[df_simul['case'] == CFG['TRAIN_CASE']]\n",
    "temp_train = df_train[df_train['case']==CFG['TRAIN_CASE']]\n",
    "if CFG['DEBUG'] == True:\n",
    "  temp_simul = temp_simul.iloc[:1000]\n",
    "  temp_train = temp_train.iloc[:800]\n",
    "\n",
    "ST_simul = ST_Simul_Dataset(temp_simul)\n",
    "ST_train = ST_Train_Dataset(temp_train)\n",
    "\n",
    "\n",
    "ST_simul_loader = DataLoader(ST_simul, batch_size=CFG['BATCH_SIZE'], shuffle=True)\n",
    "ST_train_loader = DataLoader(ST_train, batch_size=CFG['BATCH_SIZE'], shuffle=True)\n",
    "\n",
    "wgan_trainer = Trainer(Generator, Discriminator, device, model_checkpoint = model_checkpoint)"
   ]
  },
  {
   "cell_type": "code",
   "execution_count": null,
   "metadata": {
    "colab": {
     "base_uri": "https://localhost:8080/"
    },
    "execution": {
     "iopub.execute_input": "2022-09-18T10:55:13.607569Z",
     "iopub.status.busy": "2022-09-18T10:55:13.607325Z",
     "iopub.status.idle": "2022-09-18T11:02:05.786202Z",
     "shell.execute_reply": "2022-09-18T11:02:05.784957Z",
     "shell.execute_reply.started": "2022-09-18T10:55:13.607547Z"
    },
    "id": "ZVpvzue0YMcI",
    "outputId": "c8aef82b-46bd-44a4-f8ce-77d032d0efdb",
    "scrolled": true
   },
   "outputs": [],
   "source": [
    "wgan_trainer.train(ST_simul_loader, ST_train_loader, CFG['EPOCHS'], 2)"
   ]
  },
  {
   "cell_type": "markdown",
   "metadata": {
    "id": "4AQbtwMcJolt"
   },
   "source": [
    "# Train 3\n"
   ]
  },
  {
   "cell_type": "code",
   "execution_count": 34,
   "metadata": {
    "execution": {
     "iopub.execute_input": "2022-09-18T10:55:10.368282Z",
     "iopub.status.busy": "2022-09-18T10:55:10.367472Z",
     "iopub.status.idle": "2022-09-18T10:55:10.373925Z",
     "shell.execute_reply": "2022-09-18T10:55:10.373251Z",
     "shell.execute_reply.started": "2022-09-18T10:55:10.368256Z"
    },
    "id": "vVk6d8dNYMcI"
   },
   "outputs": [],
   "source": [
    "CFG['TRAIN_CASE'] = 3\n",
    "CFG['IMG_dir'] = f'{CFG[\"PROJECT_DIR\"]}/{test_id}/images/{CFG[\"TRAIN_CASE\"]}'\n",
    "CFG['STG_dir'] = f'{CFG[\"PROJECT_DIR\"]}/{test_id}/STG/{CFG[\"TRAIN_CASE\"]}'\n",
    "CFG['STD_dir'] = f'{CFG[\"PROJECT_DIR\"]}/{test_id}/STD/{CFG[\"TRAIN_CASE\"]}'\n",
    "\n",
    "os.makedirs(CFG['IMG_dir'], exist_ok=True)\n",
    "os.makedirs(CFG['STG_dir'], exist_ok=True)\n",
    "os.makedirs(CFG['STD_dir'], exist_ok=True)\n",
    "\n",
    "model_checkpoint = {}\n",
    "model_checkpoint['last_epoch'] = 0\n",
    "model_checkpoint['G_ST'] = f'{CFG[\"PROJECT_DIR\"]}/{test_id}/STG/1/G_ST_299.pth'\n",
    "model_checkpoint['G_TS'] = f'{CFG[\"PROJECT_DIR\"]}/{test_id}/STG/1/G_TS_299.pth'       \n",
    "model_checkpoint['D_T'] = f'{CFG[\"PROJECT_DIR\"]}/{test_id}/STD/1/STD_T299.pth' \n",
    "model_checkpoint['D_S'] = f'{CFG[\"PROJECT_DIR\"]}/{test_id}/STD/1/STD_S299.pth'\n",
    "CFG['EPOCHS'] = 100\n",
    "\n",
    "wandb.config.update(CFG)"
   ]
  },
  {
   "cell_type": "code",
   "execution_count": 35,
   "metadata": {
    "colab": {
     "base_uri": "https://localhost:8080/"
    },
    "execution": {
     "iopub.execute_input": "2022-09-18T10:55:10.375246Z",
     "iopub.status.busy": "2022-09-18T10:55:10.374664Z",
     "iopub.status.idle": "2022-09-18T10:55:13.605207Z",
     "shell.execute_reply": "2022-09-18T10:55:13.603908Z",
     "shell.execute_reply.started": "2022-09-18T10:55:10.375221Z"
    },
    "id": "sgMWBPrKYMcI",
    "outputId": "97b9ac04-5b30-4596-ca54-4243cbe87087"
   },
   "outputs": [
    {
     "name": "stdout",
     "output_type": "stream",
     "text": [
      "Adjusting learning rate of group 0 to 2.0000e-04.\n",
      "Adjusting learning rate of group 0 to 2.0000e-04.\n",
      "Adjusting learning rate of group 0 to 2.0000e-04.\n",
      "load model only\n",
      "train checkpoint loaded\n"
     ]
    }
   ],
   "source": [
    "#dataset 준비\n",
    "seed_everything(CFG['SEED']) # Seed 고정\n",
    "\n",
    "temp_simul = df_simul[df_simul['case'] == CFG['TRAIN_CASE']]\n",
    "temp_train = df_train[df_train['case']==CFG['TRAIN_CASE']]\n",
    "if CFG['DEBUG'] == True:\n",
    "  temp_simul = temp_simul.iloc[:1000]\n",
    "  temp_train = temp_train.iloc[:800]\n",
    "\n",
    "ST_simul = ST_Simul_Dataset(temp_simul)\n",
    "ST_train = ST_Train_Dataset(temp_train)\n",
    "\n",
    "\n",
    "ST_simul_loader = DataLoader(ST_simul, batch_size=CFG['BATCH_SIZE'], shuffle=True)\n",
    "ST_train_loader = DataLoader(ST_train, batch_size=CFG['BATCH_SIZE'], shuffle=True)\n",
    "\n",
    "wgan_trainer = Trainer(Generator, Discriminator, device, model_checkpoint = model_checkpoint)"
   ]
  },
  {
   "cell_type": "code",
   "execution_count": null,
   "metadata": {
    "colab": {
     "base_uri": "https://localhost:8080/"
    },
    "execution": {
     "iopub.execute_input": "2022-09-18T10:55:13.607569Z",
     "iopub.status.busy": "2022-09-18T10:55:13.607325Z",
     "iopub.status.idle": "2022-09-18T11:02:05.786202Z",
     "shell.execute_reply": "2022-09-18T11:02:05.784957Z",
     "shell.execute_reply.started": "2022-09-18T10:55:13.607547Z"
    },
    "id": "ZVpvzue0YMcI",
    "outputId": "c8aef82b-46bd-44a4-f8ce-77d032d0efdb"
   },
   "outputs": [],
   "source": [
    "wgan_trainer.train(ST_simul_loader, ST_train_loader, CFG['EPOCHS'], 2)"
   ]
  },
  {
   "cell_type": "markdown",
   "metadata": {
    "id": "4AQbtwMcJolt"
   },
   "source": [
    "# Train 4\n"
   ]
  },
  {
   "cell_type": "code",
   "execution_count": 37,
   "metadata": {
    "execution": {
     "iopub.execute_input": "2022-09-18T10:55:10.368282Z",
     "iopub.status.busy": "2022-09-18T10:55:10.367472Z",
     "iopub.status.idle": "2022-09-18T10:55:10.373925Z",
     "shell.execute_reply": "2022-09-18T10:55:10.373251Z",
     "shell.execute_reply.started": "2022-09-18T10:55:10.368256Z"
    },
    "id": "vVk6d8dNYMcI"
   },
   "outputs": [],
   "source": [
    "CFG['TRAIN_CASE'] = 4\n",
    "CFG['IMG_dir'] = f'{CFG[\"PROJECT_DIR\"]}/{test_id}/images/{CFG[\"TRAIN_CASE\"]}'\n",
    "CFG['STG_dir'] = f'{CFG[\"PROJECT_DIR\"]}/{test_id}/STG/{CFG[\"TRAIN_CASE\"]}'\n",
    "CFG['STD_dir'] = f'{CFG[\"PROJECT_DIR\"]}/{test_id}/STD/{CFG[\"TRAIN_CASE\"]}'\n",
    "\n",
    "os.makedirs(CFG['IMG_dir'], exist_ok=True)\n",
    "os.makedirs(CFG['STG_dir'], exist_ok=True)\n",
    "os.makedirs(CFG['STD_dir'], exist_ok=True)\n",
    "\n",
    "model_checkpoint = {}\n",
    "model_checkpoint['last_epoch'] = 0\n",
    "model_checkpoint['G_ST'] = f'{CFG[\"PROJECT_DIR\"]}/{test_id}/STG/1/G_ST_299.pth'\n",
    "model_checkpoint['G_TS'] = f'{CFG[\"PROJECT_DIR\"]}/{test_id}/STG/1/G_TS_299.pth'       \n",
    "model_checkpoint['D_T'] = f'{CFG[\"PROJECT_DIR\"]}/{test_id}/STD/1/STD_T299.pth' \n",
    "model_checkpoint['D_S'] = f'{CFG[\"PROJECT_DIR\"]}/{test_id}/STD/1/STD_S299.pth' \n",
    "CFG['EPOCHS'] = 100\n",
    "\n",
    "wandb.config.update(CFG)"
   ]
  },
  {
   "cell_type": "code",
   "execution_count": 38,
   "metadata": {
    "colab": {
     "base_uri": "https://localhost:8080/"
    },
    "execution": {
     "iopub.execute_input": "2022-09-18T10:55:10.375246Z",
     "iopub.status.busy": "2022-09-18T10:55:10.374664Z",
     "iopub.status.idle": "2022-09-18T10:55:13.605207Z",
     "shell.execute_reply": "2022-09-18T10:55:13.603908Z",
     "shell.execute_reply.started": "2022-09-18T10:55:10.375221Z"
    },
    "id": "sgMWBPrKYMcI",
    "outputId": "97b9ac04-5b30-4596-ca54-4243cbe87087"
   },
   "outputs": [
    {
     "name": "stdout",
     "output_type": "stream",
     "text": [
      "Adjusting learning rate of group 0 to 2.0000e-04.\n",
      "Adjusting learning rate of group 0 to 2.0000e-04.\n",
      "Adjusting learning rate of group 0 to 2.0000e-04.\n",
      "load model only\n",
      "train checkpoint loaded\n"
     ]
    }
   ],
   "source": [
    "#dataset 준비\n",
    "seed_everything(CFG['SEED']) # Seed 고정\n",
    "\n",
    "temp_simul = df_simul[df_simul['case'] == CFG['TRAIN_CASE']]\n",
    "temp_train = df_train[df_train['case']==CFG['TRAIN_CASE']]\n",
    "if CFG['DEBUG'] == True:\n",
    "  temp_simul = temp_simul.iloc[:1000]\n",
    "  temp_train = temp_train.iloc[:800]\n",
    "\n",
    "ST_simul = ST_Simul_Dataset(temp_simul)\n",
    "ST_train = ST_Train_Dataset(temp_train)\n",
    "\n",
    "\n",
    "ST_simul_loader = DataLoader(ST_simul, batch_size=CFG['BATCH_SIZE'], shuffle=True)\n",
    "ST_train_loader = DataLoader(ST_train, batch_size=CFG['BATCH_SIZE'], shuffle=True)\n",
    "\n",
    "wgan_trainer = Trainer(Generator, Discriminator, device, model_checkpoint = model_checkpoint)"
   ]
  },
  {
   "cell_type": "code",
   "execution_count": null,
   "metadata": {
    "colab": {
     "base_uri": "https://localhost:8080/"
    },
    "execution": {
     "iopub.execute_input": "2022-09-18T10:55:13.607569Z",
     "iopub.status.busy": "2022-09-18T10:55:13.607325Z",
     "iopub.status.idle": "2022-09-18T11:02:05.786202Z",
     "shell.execute_reply": "2022-09-18T11:02:05.784957Z",
     "shell.execute_reply.started": "2022-09-18T10:55:13.607547Z"
    },
    "id": "ZVpvzue0YMcI",
    "outputId": "c8aef82b-46bd-44a4-f8ce-77d032d0efdb"
   },
   "outputs": [],
   "source": [
    "wgan_trainer.train(ST_simul_loader, ST_train_loader, CFG['EPOCHS'], 2)"
   ]
  },
  {
   "cell_type": "markdown",
   "metadata": {},
   "source": [
    "# Simulation -> Train domain transfer"
   ]
  },
  {
   "cell_type": "code",
   "execution_count": 42,
   "metadata": {},
   "outputs": [],
   "source": [
    "class ST_Simul_Dataset_Save(Dataset):  \n",
    "  def __init__(self, df):\n",
    "    self.df = df\n",
    "    \n",
    "  def __len__(self):\n",
    "    return len(self.df)\n",
    "\n",
    "  def __getitem__(self, idx):\n",
    "    sem1 = torch.Tensor(cv2.imread(self.df.iloc[idx,0], cv2.IMREAD_GRAYSCALE))[None, :]\n",
    "    sem2 = torch.Tensor(cv2.imread(self.df.iloc[idx,1], cv2.IMREAD_GRAYSCALE))[None, :]\n",
    "    sem = (sem1 + sem2) / 212 - 1    \n",
    "    \n",
    "    depth = cv2.imread(df_simul.iloc[idx,2], cv2.IMREAD_GRAYSCALE) # get depth img\n",
    "    \n",
    "    case = df_simul.iloc[idx, 3]\n",
    "\n",
    "    return sem, depth, case, idx"
   ]
  },
  {
   "cell_type": "code",
   "execution_count": 41,
   "metadata": {},
   "outputs": [],
   "source": [
    "model1_path = f'{CFG[\"PROJECT_DIR\"]}/{test_id}/STG/1/G_ST_299.pth'\n",
    "model2_path = f'{CFG[\"PROJECT_DIR\"]}/{test_id}/STG/2/G_ST_099.pth'\n",
    "model3_path = f'{CFG[\"PROJECT_DIR\"]}/{test_id}/STG/3/G_ST_099.pth'\n",
    "model4_path = f'{CFG[\"PROJECT_DIR\"]}/{test_id}/STG/4/G_ST_099.pth'\n",
    "\n",
    "models = []\n",
    "models.append(0)\n",
    "\n",
    "models.append(Generator(dim=CFG['STG_DIM']))\n",
    "models.append(Generator(dim=CFG['STG_DIM']))\n",
    "models.append(Generator(dim=CFG['STG_DIM']))\n",
    "models.append(Generator(dim=CFG['STG_DIM']))\n",
    "\n",
    "models[1].load_state_dict(torch.load(model1_path))\n",
    "models[2].load_state_dict(torch.load(model2_path))\n",
    "models[3].load_state_dict(torch.load(model3_path))\n",
    "models[4].load_state_dict(torch.load(model4_path))\n",
    "\n",
    "for model in models:\n",
    "    if model:\n",
    "        model.to(device)\n",
    "        model.eval()"
   ]
  },
  {
   "cell_type": "code",
   "execution_count": 43,
   "metadata": {},
   "outputs": [
    {
     "name": "stderr",
     "output_type": "stream",
     "text": [
      "  0%|                                                                                        | 0/86652 [00:00<?, ?it/s]\n"
     ]
    },
    {
     "data": {
      "image/png": "[encoded data removed]",
      "text/plain": [
       "<Figure size 1008x360 with 3 Axes>"
      ]
     },
     "metadata": {
      "needs_background": "light"
     },
     "output_type": "display_data"
    }
   ],
   "source": [
    "ST_set_save = ST_Simul_Dataset_Save(df_simul)\n",
    "ST_loader_save = DataLoader(ST_set_save, batch_size=1)\n",
    "\n",
    "with torch.no_grad():\n",
    "  for sem, depth, case, idx in tqdm(iter(ST_loader_save)):\n",
    "    sem = sem.to(device)\n",
    "    idx = int(idx)\n",
    "    case = int(case)\n",
    "    \n",
    "    fake_ST = models[case](sem)\n",
    "\n",
    "    model_pred = (fake_ST + 1) * 212 / 2\n",
    "    model_pred = model_pred.cpu().numpy()[0][0]\n",
    "    \n",
    "    sem = (sem + 1)*212\n",
    "    sem = sem.cpu().numpy()[0][0]\n",
    "    \n",
    "    depth = depth.cpu().numpy()[0]\n",
    "    \n",
    "    imgname = ['sim1_st', 'sim1_orig', 'sim1_depth']\n",
    "    imgs = [model_pred, sem, depth]\n",
    "    plt.figure(figsize=(14, 5))\n",
    "    for i, img in enumerate(imgs) :\n",
    "        plt.subplot(1,len(imgs),i+1)\n",
    "        plt.title(imgname[i])\n",
    "        plt.axis('off') \n",
    "        plt.imshow(img[:,:], cmap='gray')\n",
    "    \n",
    "    break"
   ]
  },
  {
   "cell_type": "code",
   "execution_count": 45,
   "metadata": {},
   "outputs": [
    {
     "name": "stderr",
     "output_type": "stream",
     "text": [
      "100%|███████████████████████████████████████████████████████████████████████████| 86652/86652 [12:20<00:00, 117.05it/s]\n"
     ]
    }
   ],
   "source": [
    "from os.path import join as opj\n",
    "\n",
    "Depth_dir = f'./processed_data/simulation/Depth'\n",
    "Simul_dir = f'./processed_data/simulation/SEM'\n",
    "\n",
    "os.makedirs(Depth_dir, exist_ok=True)\n",
    "os.makedirs(Simul_dir, exist_ok=True)\n",
    "\n",
    "ST_set_save = ST_Simul_Dataset_Save(df_simul)\n",
    "ST_loader_save = DataLoader(ST_set_save, batch_size=1)\n",
    "\n",
    "with torch.no_grad():\n",
    "  for sem, depth, case, idx in tqdm(iter(ST_loader_save)):\n",
    "    sem = sem.to(device)\n",
    "    idx = int(idx)\n",
    "    case = int(case)\n",
    "    \n",
    "    fake_ST = models[case](sem)\n",
    "\n",
    "    model_pred = (fake_ST + 1) * 212 / 2\n",
    "    model_pred = model_pred.cpu().numpy()[0][0]\n",
    "    \n",
    "    depth = depth.cpu().numpy()[0]\n",
    "    \n",
    "    simulation_save_path = opj(Simul_dir, f'SEM_{case}_{str(idx).zfill(5)}.png')\n",
    "    depth_save_path = opj(Depth_dir, f'Depth_{case}_{str(idx).zfill(5)}.png')\n",
    "    \n",
    "    cv2.imwrite(simulation_save_path, model_pred)\n",
    "    cv2.imwrite(depth_save_path, depth)"
   ]
  }
 ],
 "metadata": {
  "accelerator": "GPU",
  "colab": {
   "collapsed_sections": [],
   "provenance": []
  },
  "gpuClass": "standard",
  "kernelspec": {
   "display_name": "Python 3.9.12 ('base')",
   "language": "python",
   "name": "python3"
  },
  "language_info": {
   "codemirror_mode": {
    "name": "ipython",
    "version": 3
   },
   "file_extension": ".py",
   "mimetype": "text/x-python",
   "name": "python",
   "nbconvert_exporter": "python",
   "pygments_lexer": "ipython3",
   "version": "3.9.12"
  },
  "vscode": {
   "interpreter": {
    "hash": "24f4f8817329ddfaf02b54d63eb7c3e45c779aba8b44a116056b96860c8e6725"
   }
  }
 },
 "nbformat": 4,
 "nbformat_minor": 4
}
