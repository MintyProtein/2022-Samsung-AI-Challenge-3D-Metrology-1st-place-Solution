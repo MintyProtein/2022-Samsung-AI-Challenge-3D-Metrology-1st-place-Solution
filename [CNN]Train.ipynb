{
 "cells": [
  {
   "cell_type": "markdown",
   "metadata": {
    "id": "StvFazNBetFG"
   },
   "source": [
    "# Basic setup"
   ]
  },
  {
   "cell_type": "code",
   "execution_count": null,
   "metadata": {},
   "outputs": [],
   "source": [
    "pip install timm"
   ]
  },
  {
   "cell_type": "code",
   "execution_count": 1,
   "metadata": {
    "execution": {
     "iopub.execute_input": "2022-08-28T10:27:16.874850Z",
     "iopub.status.busy": "2022-08-28T10:27:16.874221Z",
     "iopub.status.idle": "2022-08-28T10:27:18.908421Z",
     "shell.execute_reply": "2022-08-28T10:27:18.907804Z",
     "shell.execute_reply.started": "2022-08-28T10:27:16.874823Z"
    },
    "id": "pGLhRD_bYVgv"
   },
   "outputs": [],
   "source": [
    "import random\n",
    "import pandas as pd\n",
    "import numpy as np\n",
    "import os\n",
    "import glob\n",
    "import cv2\n",
    "\n",
    "import torch\n",
    "import torch.nn as nn\n",
    "import torch.optim as optim\n",
    "import torch.nn.functional as F\n",
    "import torchvision\n",
    "from torch.utils.data import Dataset, DataLoader\n",
    "\n",
    "import matplotlib.pyplot as plt\n",
    "\n",
    "from tqdm import tqdm\n",
    "\n",
    "from sklearn.metrics import accuracy_score\n",
    "from sklearn.model_selection import train_test_split\n",
    "from sklearn.metrics import confusion_matrix\n",
    "\n",
    "import timm\n",
    "\n",
    "import warnings\n",
    "warnings.filterwarnings(action='ignore') "
   ]
  },
  {
   "cell_type": "code",
   "execution_count": 2,
   "metadata": {
    "execution": {
     "iopub.execute_input": "2022-08-28T10:27:18.910087Z",
     "iopub.status.busy": "2022-08-28T10:27:18.909606Z",
     "iopub.status.idle": "2022-08-28T10:27:18.914913Z",
     "shell.execute_reply": "2022-08-28T10:27:18.914423Z",
     "shell.execute_reply.started": "2022-08-28T10:27:18.910067Z"
    },
    "id": "YGfws488YYrt"
   },
   "outputs": [],
   "source": [
    "debug = False\n",
    "CFG = {\n",
    "    'CLF_LR': 0.0001,\n",
    "    'BATCH_SIZE': 64,\n",
    "    'SEED': 42,\n",
    "    'EPOCHS': 100,\n",
    "}"
   ]
  },
  {
   "cell_type": "code",
   "execution_count": 3,
   "metadata": {},
   "outputs": [],
   "source": [
    "def seed_everything(seed):\n",
    "    random.seed(seed)\n",
    "    os.environ['PYTHONHASHSEED'] = str(seed)\n",
    "    np.random.seed(seed)\n",
    "    torch.manual_seed(seed)\n",
    "    torch.cuda.manual_seed(seed)\n",
    "    torch.backends.cudnn.deterministic = True\n",
    "    torch.backends.cudnn.benchmark = True"
   ]
  },
  {
   "cell_type": "code",
   "execution_count": 4,
   "metadata": {
    "execution": {
     "iopub.execute_input": "2022-08-28T10:27:37.182255Z",
     "iopub.status.busy": "2022-08-28T10:27:37.181889Z",
     "iopub.status.idle": "2022-08-28T10:27:37.187531Z",
     "shell.execute_reply": "2022-08-28T10:27:37.186727Z",
     "shell.execute_reply.started": "2022-08-28T10:27:37.182230Z"
    },
    "id": "S6oSAdDVr4-X"
   },
   "outputs": [],
   "source": [
    "device = torch.device('cuda') if torch.cuda.is_available() else torch.device('cpu')"
   ]
  },
  {
   "cell_type": "markdown",
   "metadata": {
    "id": "8-6KHoBfqDHo"
   },
   "source": [
    "# Prepare Dataset"
   ]
  },
  {
   "cell_type": "code",
   "execution_count": 5,
   "metadata": {
    "execution": {
     "iopub.execute_input": "2022-08-28T10:27:39.220541Z",
     "iopub.status.busy": "2022-08-28T10:27:39.220244Z",
     "iopub.status.idle": "2022-08-28T10:27:41.807615Z",
     "shell.execute_reply": "2022-08-28T10:27:41.807154Z",
     "shell.execute_reply.started": "2022-08-28T10:27:39.220519Z"
    },
    "id": "erTyeF7QqI61"
   },
   "outputs": [],
   "source": [
    "train_data_path = glob.glob('./train/SEM/*/*/*.png')\n",
    "\n",
    "df_train_SEM = pd.DataFrame({'path':train_data_path})\n",
    "df_train_SEM['case'] = df_train_SEM['path'].apply(lambda x: int(x[18:21])//10%10)"
   ]
  },
  {
   "cell_type": "code",
   "execution_count": 6,
   "metadata": {},
   "outputs": [
    {
     "data": {
      "text/html": [
       "<div>\n",
       "<style scoped>\n",
       "    .dataframe tbody tr th:only-of-type {\n",
       "        vertical-align: middle;\n",
       "    }\n",
       "\n",
       "    .dataframe tbody tr th {\n",
       "        vertical-align: top;\n",
       "    }\n",
       "\n",
       "    .dataframe thead th {\n",
       "        text-align: right;\n",
       "    }\n",
       "</style>\n",
       "<table border=\"1\" class=\"dataframe\">\n",
       "  <thead>\n",
       "    <tr style=\"text-align: right;\">\n",
       "      <th></th>\n",
       "      <th>path</th>\n",
       "      <th>case</th>\n",
       "    </tr>\n",
       "  </thead>\n",
       "  <tbody>\n",
       "    <tr>\n",
       "      <th>0</th>\n",
       "      <td>./train/SEM\\Depth_110\\site_00000\\SEM_043510.png</td>\n",
       "      <td>1</td>\n",
       "    </tr>\n",
       "    <tr>\n",
       "      <th>1</th>\n",
       "      <td>./train/SEM\\Depth_110\\site_00000\\SEM_043987.png</td>\n",
       "      <td>1</td>\n",
       "    </tr>\n",
       "    <tr>\n",
       "      <th>2</th>\n",
       "      <td>./train/SEM\\Depth_110\\site_00000\\SEM_045397.png</td>\n",
       "      <td>1</td>\n",
       "    </tr>\n",
       "    <tr>\n",
       "      <th>3</th>\n",
       "      <td>./train/SEM\\Depth_110\\site_00000\\SEM_046894.png</td>\n",
       "      <td>1</td>\n",
       "    </tr>\n",
       "    <tr>\n",
       "      <th>4</th>\n",
       "      <td>./train/SEM\\Depth_110\\site_00000\\SEM_049394.png</td>\n",
       "      <td>1</td>\n",
       "    </tr>\n",
       "  </tbody>\n",
       "</table>\n",
       "</div>"
      ],
      "text/plain": [
       "                                              path  case\n",
       "0  ./train/SEM\\Depth_110\\site_00000\\SEM_043510.png     1\n",
       "1  ./train/SEM\\Depth_110\\site_00000\\SEM_043987.png     1\n",
       "2  ./train/SEM\\Depth_110\\site_00000\\SEM_045397.png     1\n",
       "3  ./train/SEM\\Depth_110\\site_00000\\SEM_046894.png     1\n",
       "4  ./train/SEM\\Depth_110\\site_00000\\SEM_049394.png     1"
      ]
     },
     "execution_count": 6,
     "metadata": {},
     "output_type": "execute_result"
    }
   ],
   "source": [
    "df_train_SEM.head()"
   ]
  },
  {
   "cell_type": "markdown",
   "metadata": {
    "id": "3FYWKEVF35K-"
   },
   "source": [
    "# Case Classifier Dataset"
   ]
  },
  {
   "cell_type": "code",
   "execution_count": 7,
   "metadata": {
    "execution": {
     "iopub.execute_input": "2022-08-28T10:27:41.816553Z",
     "iopub.status.busy": "2022-08-28T10:27:41.816101Z",
     "iopub.status.idle": "2022-08-28T10:27:41.820238Z",
     "shell.execute_reply": "2022-08-28T10:27:41.819893Z",
     "shell.execute_reply.started": "2022-08-28T10:27:41.816535Z"
    },
    "id": "k7hIWJ3x3qw-"
   },
   "outputs": [],
   "source": [
    "class Classifier_Dataset(Dataset):\n",
    "  def __init__(self, df):\n",
    "    self.df = df\n",
    "  def __len__(self):\n",
    "    return len(self.df)\n",
    "  def __getitem__(self, idx):\n",
    "    img = cv2.imread(self.df.iloc[idx, 0], cv2.IMREAD_GRAYSCALE)\n",
    "    img = img / 255\n",
    "    img = torch.Tensor(img)[None, :]\n",
    "\n",
    "    case = self.df.iloc[idx, 1]\n",
    "    case = torch.eye(4)[case-1]\n",
    "    return img, case"
   ]
  },
  {
   "cell_type": "markdown",
   "metadata": {},
   "source": [
    "# CNN Classifier Model"
   ]
  },
  {
   "cell_type": "code",
   "execution_count": 8,
   "metadata": {},
   "outputs": [],
   "source": [
    "class Case_Classifier(nn.Module):\n",
    "    def __init__(self):\n",
    "        super(Case_Classifier, self).__init__()\n",
    "        #tf_efficientnet_b0_ns\n",
    "        self.model = timm.create_model('tf_efficientnet_b0_ns', pretrained = True, num_classes = 4, in_chans=1)\n",
    "        self.softmax = nn.Softmax()\n",
    "        \n",
    "    def forward(self, x):\n",
    "        x = self.model(x) #1층\n",
    "        return self.softmax(x)"
   ]
  },
  {
   "cell_type": "markdown",
   "metadata": {
    "id": "IN2clnym86ga"
   },
   "source": [
    "# Training Classifier"
   ]
  },
  {
   "cell_type": "code",
   "execution_count": null,
   "metadata": {
    "execution": {
     "iopub.execute_input": "2022-08-28T10:28:02.408781Z",
     "iopub.status.busy": "2022-08-28T10:28:02.407891Z",
     "iopub.status.idle": "2022-08-28T11:59:32.138640Z",
     "shell.execute_reply": "2022-08-28T11:59:32.137838Z",
     "shell.execute_reply.started": "2022-08-28T10:28:02.408752Z"
    },
    "id": "Wbz4QCvF8p_S",
    "scrolled": true
   },
   "outputs": [],
   "source": [
    "from sklearn.model_selection import StratifiedKFold\n",
    "\n",
    "seed_everything(CFG['SEED']) # Seed 고정\n",
    "\n",
    "kf = StratifiedKFold(n_splits=5, shuffle=True, random_state=42)\n",
    "for i, [train_idx, val_idx] in enumerate(kf.split(df_train_SEM, df_train_SEM['case'])):\n",
    "    df_train = df_train_SEM.iloc[train_idx]\n",
    "    df_val = df_train_SEM.iloc[val_idx]\n",
    "\n",
    "    cls_set = Classifier_Dataset(df_train)\n",
    "    cls_val_set = Classifier_Dataset(df_val)\n",
    "    cls_loader = DataLoader(cls_set, batch_size=CFG['BATCH_SIZE'], shuffle=True)\n",
    "    cls_val_loader = DataLoader(cls_val_set, batch_size=CFG['BATCH_SIZE'], shuffle=True)\n",
    "    classifier = Case_Classifier()\n",
    "    classifier.to(device)\n",
    "\n",
    "    optimizer = torch.optim.AdamW(params=classifier.parameters(), lr=CFG['CLF_LR'])\n",
    "    criterion = nn.CrossEntropyLoss()\n",
    "\n",
    "    scheduler = torch.optim.lr_scheduler.ReduceLROnPlateau(optimizer, 'max', patience=8, factor=0.5)\n",
    "    \n",
    "    best_acc = 0\n",
    "    np.set_printoptions(precision=6, suppress=True)\n",
    "    for epoch in range(CFG['EPOCHS']):\n",
    "      train_losses = []\n",
    "      val_losses = []\n",
    "      accuracy = 0\n",
    "      \n",
    "      classifier.train()\n",
    "      for sem, case in tqdm(cls_loader):\n",
    "        sem = sem.to(device)\n",
    "        case = case.to(device)\n",
    "\n",
    "        optimizer.zero_grad()\n",
    "        pred = classifier(sem)\n",
    "        loss = criterion(case, pred)\n",
    "        loss.backward()\n",
    "        optimizer.step()\n",
    "        train_losses.append(loss.item())\n",
    "      \n",
    "      classifier.eval()\n",
    "      cm = np.zeros((4,4))\n",
    "\n",
    "      with torch.no_grad():\n",
    "        for sem, case in tqdm(cls_val_loader):\n",
    "          sem = sem.to(device)\n",
    "          case = case.to(device)\n",
    "\n",
    "          pred = classifier(sem)\n",
    "          loss = criterion(case, pred)\n",
    "          val_losses.append(loss.item())\n",
    "\n",
    "          case = case.argmax(dim=1)\n",
    "          pred = pred.argmax(dim=1)\n",
    "\n",
    "          for l, p in zip(case, pred):\n",
    "            cm[l][p] += 1\n",
    "          acc = (case==pred).count_nonzero()\n",
    "          accuracy += acc.item() / len(cls_val_set)\n",
    "      if best_acc < accuracy:\n",
    "        torch.save(classifier.state_dict(), './cnn_classifier.pth')\n",
    "        print('##########Model Saved!##########')\n",
    "        best_acc = accuracy\n",
    "\n",
    "\n",
    "      if scheduler is not None:\n",
    "        scheduler.step(accuracy)\n",
    "\n",
    "      train_losses = np.mean(train_losses)\n",
    "      val_losses = np.mean(val_losses)\n",
    "\n",
    "      print(f'[EPOCH:{epoch+1}/{CFG[\"EPOCHS\"]}] [Train Loss:{train_losses}] [Val Loss:{val_losses}] [Val Accuracy:{accuracy}]')\n",
    "    \n",
    "    break"
   ]
  }
 ],
 "metadata": {
  "accelerator": "GPU",
  "colab": {
   "collapsed_sections": [],
   "name": "[CLF]final.ipynb의 사본",
   "provenance": []
  },
  "gpuClass": "standard",
  "kernelspec": {
   "display_name": "Python 3.9.12 ('base')",
   "language": "python",
   "name": "python3"
  },
  "language_info": {
   "codemirror_mode": {
    "name": "ipython",
    "version": 3
   },
   "file_extension": ".py",
   "mimetype": "text/x-python",
   "name": "python",
   "nbconvert_exporter": "python",
   "pygments_lexer": "ipython3",
   "version": "3.9.12"
  },
  "vscode": {
   "interpreter": {
    "hash": "24f4f8817329ddfaf02b54d63eb7c3e45c779aba8b44a116056b96860c8e6725"
   }
  }
 },
 "nbformat": 4,
 "nbformat_minor": 1
}
